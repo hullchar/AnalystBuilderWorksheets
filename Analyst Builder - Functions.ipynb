{
 "cells": [
  {
   "cell_type": "code",
   "execution_count": 1,
   "id": "4d9ed258",
   "metadata": {},
   "outputs": [],
   "source": [
    "def first_function():\n",
    "    print('We did it!')"
   ]
  },
  {
   "cell_type": "code",
   "execution_count": 2,
   "id": "59b459af",
   "metadata": {},
   "outputs": [
    {
     "name": "stdout",
     "output_type": "stream",
     "text": [
      "We did it!\n"
     ]
    }
   ],
   "source": [
    "first_function()"
   ]
  },
  {
   "cell_type": "code",
   "execution_count": 3,
   "id": "3babceaf",
   "metadata": {},
   "outputs": [],
   "source": [
    "def second_function(name):\n",
    "    print(name, 'did it!')"
   ]
  },
  {
   "cell_type": "code",
   "execution_count": 4,
   "id": "41b85834",
   "metadata": {},
   "outputs": [
    {
     "name": "stdout",
     "output_type": "stream",
     "text": [
      "alex did it!\n"
     ]
    }
   ],
   "source": [
    "second_function('alex')"
   ]
  },
  {
   "cell_type": "code",
   "execution_count": 5,
   "id": "e5def2aa",
   "metadata": {},
   "outputs": [],
   "source": [
    "def number_squared_func(number,power):\n",
    "    print(number**power)"
   ]
  },
  {
   "cell_type": "code",
   "execution_count": 6,
   "id": "dbdf2909",
   "metadata": {},
   "outputs": [
    {
     "name": "stdout",
     "output_type": "stream",
     "text": [
      "9\n"
     ]
    }
   ],
   "source": [
    "number_squared_func(3,2)"
   ]
  },
  {
   "cell_type": "code",
   "execution_count": 7,
   "id": "f8f59c4f",
   "metadata": {},
   "outputs": [
    {
     "data": {
      "text/plain": [
       "50"
      ]
     },
     "execution_count": 7,
     "metadata": {},
     "output_type": "execute_result"
    }
   ],
   "source": [
    "def calculate_profit(selling_price, cost_price):\n",
    "    profit = selling_price - cost_price\n",
    "    return profit\n",
    "\n",
    "price = 150\n",
    "cost= 100\n",
    "calculate_profit(price, cost)"
   ]
  },
  {
   "cell_type": "code",
   "execution_count": null,
   "id": "1f5f5a92",
   "metadata": {},
   "outputs": [],
   "source": [
    "# Adding Docstrings \n",
    "\n",
    "print()"
   ]
  },
  {
   "cell_type": "code",
   "execution_count": 11,
   "id": "1ed624fa",
   "metadata": {},
   "outputs": [],
   "source": [
    "def test_func(name):\n",
    "    \"\"\" This functions allow you to print your name. That's it.\n",
    "    \"\"\"\n",
    "    print(name)"
   ]
  },
  {
   "cell_type": "code",
   "execution_count": 9,
   "id": "38217dff",
   "metadata": {},
   "outputs": [
    {
     "name": "stdout",
     "output_type": "stream",
     "text": [
      "Alex\n"
     ]
    }
   ],
   "source": [
    "test_func('Alex')"
   ]
  },
  {
   "cell_type": "code",
   "execution_count": 12,
   "id": "3759f337",
   "metadata": {},
   "outputs": [],
   "source": [
    "# Default and Arbitrary Arguments \n",
    "\n",
    "def number_squared_func(number,power):\n",
    "    print(number**power)"
   ]
  },
  {
   "cell_type": "code",
   "execution_count": 13,
   "id": "9379fb86",
   "metadata": {},
   "outputs": [
    {
     "name": "stdout",
     "output_type": "stream",
     "text": [
      "8\n"
     ]
    }
   ],
   "source": [
    "number_squared_func(2,3)"
   ]
  },
  {
   "cell_type": "code",
   "execution_count": 14,
   "id": "87e42535",
   "metadata": {},
   "outputs": [
    {
     "name": "stdout",
     "output_type": "stream",
     "text": [
      "8\n"
     ]
    }
   ],
   "source": [
    "#Default Argument\n",
    "\n",
    "def number_squared_func2(number,power = 3):\n",
    "    print(number**power)\n",
    "    \n",
    "number_squared_func2(2)"
   ]
  },
  {
   "cell_type": "code",
   "execution_count": 19,
   "id": "8e9bfe33",
   "metadata": {},
   "outputs": [],
   "source": [
    "# Arbitrary Arguments\n",
    "\n",
    "args_tuple = (5,6,1,2,3,4)\n",
    "\n",
    "def arg_func(*number):\n",
    "    print(number[0]*number[1])\n",
    "    \n",
    "    arg_func(*args_tuple)"
   ]
  },
  {
   "cell_type": "code",
   "execution_count": 21,
   "id": "64f147f0",
   "metadata": {},
   "outputs": [],
   "source": [
    "tuple_1 = ('John','Mikey','Sally')\n",
    "\n",
    "def number_args(*word):\n",
    "    print(\"Hello\",word[1], \" - Nice to meet you!\")"
   ]
  },
  {
   "cell_type": "code",
   "execution_count": 22,
   "id": "2059ed83",
   "metadata": {},
   "outputs": [
    {
     "name": "stdout",
     "output_type": "stream",
     "text": [
      "Hello Mikey  - Nice to meet you!\n"
     ]
    }
   ],
   "source": [
    "number_args(*tuple_1)"
   ]
  },
  {
   "cell_type": "code",
   "execution_count": 23,
   "id": "da348aa0",
   "metadata": {},
   "outputs": [
    {
     "name": "stdout",
     "output_type": "stream",
     "text": [
      "50\n"
     ]
    }
   ],
   "source": [
    "def calculate_sum(*args):\n",
    "  total_sum = sum(args)\n",
    "  print(total_sum)\n",
    "\n",
    "\n",
    "calculate_sum(5, 10, 15, 20)"
   ]
  },
  {
   "cell_type": "code",
   "execution_count": 1,
   "id": "b2de9f86",
   "metadata": {},
   "outputs": [],
   "source": [
    "#Keyword and Arbitrary Keyword Arguments\n",
    "\n",
    "def number_squared_funct(number,power):\n",
    "    print(number**power)"
   ]
  },
  {
   "cell_type": "code",
   "execution_count": 3,
   "id": "99212173",
   "metadata": {},
   "outputs": [
    {
     "name": "stdout",
     "output_type": "stream",
     "text": [
      "8\n"
     ]
    }
   ],
   "source": [
    "number_squared_funct(2,3)"
   ]
  },
  {
   "cell_type": "code",
   "execution_count": 4,
   "id": "9957354b",
   "metadata": {},
   "outputs": [
    {
     "name": "stdout",
     "output_type": "stream",
     "text": [
      "9\n"
     ]
    }
   ],
   "source": [
    "number_squared_funct(power = 2, number = 3)"
   ]
  },
  {
   "cell_type": "code",
   "execution_count": 5,
   "id": "7ddc458f",
   "metadata": {},
   "outputs": [
    {
     "name": "stdout",
     "output_type": "stream",
     "text": [
      "9\n"
     ]
    }
   ],
   "source": [
    "number_squared_funct(3, power = 2)"
   ]
  },
  {
   "cell_type": "code",
   "execution_count": 6,
   "id": "a1177014",
   "metadata": {},
   "outputs": [],
   "source": [
    "# **Kwargs\n",
    "\n",
    "def number_kwargs(**kwargs):\n",
    "    print(kwargs['Greeting'], kwargs['Name'])"
   ]
  },
  {
   "cell_type": "code",
   "execution_count": 8,
   "id": "bf77804a",
   "metadata": {},
   "outputs": [
    {
     "name": "stdout",
     "output_type": "stream",
     "text": [
      "Howdy! Alex\n"
     ]
    }
   ],
   "source": [
    "number_kwargs(Greeting = 'Howdy!', Name = 'Alex')"
   ]
  },
  {
   "cell_type": "code",
   "execution_count": 9,
   "id": "f1f0f1e9",
   "metadata": {},
   "outputs": [],
   "source": [
    "def number_kwargs2(**Names):\n",
    "    for key, value in Names.items():\n",
    "        print(key + ': ' + value)"
   ]
  },
  {
   "cell_type": "code",
   "execution_count": 11,
   "id": "9ba5268b",
   "metadata": {},
   "outputs": [
    {
     "name": "stdout",
     "output_type": "stream",
     "text": [
      "Name: Alex\n",
      "Name2: Sally\n",
      "Name3: Josh\n"
     ]
    }
   ],
   "source": [
    "number_kwargs2(Name = 'Alex', Name2 = 'Sally', Name3 = 'Josh')"
   ]
  },
  {
   "cell_type": "code",
   "execution_count": 14,
   "id": "8968cdf5",
   "metadata": {},
   "outputs": [],
   "source": [
    "my_dict = {'1': 'Alex', 'Johnny': 'Hey', '3': 'Watermelon'}"
   ]
  },
  {
   "cell_type": "code",
   "execution_count": 15,
   "id": "92bee9db",
   "metadata": {},
   "outputs": [
    {
     "name": "stdout",
     "output_type": "stream",
     "text": [
      "1: Alex\n",
      "Johnny: Hey\n",
      "3: Watermelon\n"
     ]
    }
   ],
   "source": [
    "number_kwargs2(**my_dict)"
   ]
  },
  {
   "cell_type": "code",
   "execution_count": 16,
   "id": "962447c2",
   "metadata": {},
   "outputs": [],
   "source": [
    "def wild_function(one, *two, **three):\n",
    "    print(one)\n",
    "    \n",
    "    print(two[0],two[2])\n",
    "    \n",
    "    print(three.items())"
   ]
  },
  {
   "cell_type": "code",
   "execution_count": 17,
   "id": "435b1da6",
   "metadata": {},
   "outputs": [
    {
     "name": "stdout",
     "output_type": "stream",
     "text": [
      "23\n",
      "Welp Howdy!\n",
      "dict_items([('One', 'Johnny'), ('Two', 'Ebenezer'), ('Three', 'Kanye')])\n"
     ]
    }
   ],
   "source": [
    "my_dict2 = {'One': 'Johnny','Two': 'Ebenezer', 'Three': 'Kanye'}\n",
    "\n",
    "wild_function(23, *['Welp',24,'Howdy!'], ** my_dict2)"
   ]
  },
  {
   "cell_type": "code",
   "execution_count": 18,
   "id": "3eb9c91c",
   "metadata": {},
   "outputs": [
    {
     "data": {
      "text/plain": [
       "<function __main__.<lambda>(x)>"
      ]
     },
     "execution_count": 18,
     "metadata": {},
     "output_type": "execute_result"
    }
   ],
   "source": [
    "#Lambda Functions\n",
    "\n",
    "lambda x: x * 2"
   ]
  },
  {
   "cell_type": "code",
   "execution_count": 19,
   "id": "a12c5121",
   "metadata": {},
   "outputs": [
    {
     "data": {
      "text/plain": [
       "10"
      ]
     },
     "execution_count": 19,
     "metadata": {},
     "output_type": "execute_result"
    }
   ],
   "source": [
    "(lambda x: x * 2)(5)"
   ]
  },
  {
   "cell_type": "code",
   "execution_count": 20,
   "id": "dae2a937",
   "metadata": {},
   "outputs": [
    {
     "name": "stdout",
     "output_type": "stream",
     "text": [
      "10\n"
     ]
    }
   ],
   "source": [
    "def real_func(x):\n",
    "    print(x*2)\n",
    "    \n",
    "real_func(5)"
   ]
  },
  {
   "cell_type": "code",
   "execution_count": 21,
   "id": "6b0a693e",
   "metadata": {},
   "outputs": [],
   "source": [
    "# Print vs Return in Functions\n",
    "\n",
    "def return_example():\n",
    "    return 100"
   ]
  },
  {
   "cell_type": "code",
   "execution_count": 22,
   "id": "ebccfa5c",
   "metadata": {},
   "outputs": [
    {
     "data": {
      "text/plain": [
       "100"
      ]
     },
     "execution_count": 22,
     "metadata": {},
     "output_type": "execute_result"
    }
   ],
   "source": [
    "return_example()"
   ]
  },
  {
   "cell_type": "code",
   "execution_count": 26,
   "id": "ff78fee8",
   "metadata": {},
   "outputs": [
    {
     "data": {
      "text/plain": [
       "int"
      ]
     },
     "execution_count": 26,
     "metadata": {},
     "output_type": "execute_result"
    }
   ],
   "source": [
    "type(return_example())"
   ]
  },
  {
   "cell_type": "code",
   "execution_count": 24,
   "id": "40378ca9",
   "metadata": {},
   "outputs": [],
   "source": [
    "def print_example():\n",
    "    print(100)"
   ]
  },
  {
   "cell_type": "code",
   "execution_count": 25,
   "id": "4dc1a50b",
   "metadata": {},
   "outputs": [
    {
     "name": "stdout",
     "output_type": "stream",
     "text": [
      "100\n"
     ]
    }
   ],
   "source": [
    "print_example()"
   ]
  },
  {
   "cell_type": "code",
   "execution_count": 27,
   "id": "17524564",
   "metadata": {},
   "outputs": [
    {
     "name": "stdout",
     "output_type": "stream",
     "text": [
      "100\n"
     ]
    },
    {
     "data": {
      "text/plain": [
       "NoneType"
      ]
     },
     "execution_count": 27,
     "metadata": {},
     "output_type": "execute_result"
    }
   ],
   "source": [
    "# Doesn't store any value \n",
    "\n",
    "type(print_example())"
   ]
  },
  {
   "cell_type": "code",
   "execution_count": 28,
   "id": "e5e26d9c",
   "metadata": {},
   "outputs": [
    {
     "data": {
      "text/plain": [
       "200"
      ]
     },
     "execution_count": 28,
     "metadata": {},
     "output_type": "execute_result"
    }
   ],
   "source": [
    "return_example() + 100"
   ]
  },
  {
   "cell_type": "code",
   "execution_count": 29,
   "id": "a999fdcc",
   "metadata": {},
   "outputs": [],
   "source": [
    "def happy_birthday(Name):\n",
    "    return 'Happy Birthday ' + Name + \"!\""
   ]
  },
  {
   "cell_type": "code",
   "execution_count": 30,
   "id": "b1e9cec2",
   "metadata": {},
   "outputs": [
    {
     "data": {
      "text/plain": [
       "'Happy Birthday Johnny!'"
      ]
     },
     "execution_count": 30,
     "metadata": {},
     "output_type": "execute_result"
    }
   ],
   "source": [
    "happy_birthday('Johnny')"
   ]
  },
  {
   "cell_type": "code",
   "execution_count": 34,
   "id": "2f996a2a",
   "metadata": {},
   "outputs": [],
   "source": [
    "def happy_birthday_print(Name):\n",
    "    print('Happy Birthday ' + Name + \"!\")"
   ]
  },
  {
   "cell_type": "code",
   "execution_count": 35,
   "id": "ea1816d0",
   "metadata": {},
   "outputs": [
    {
     "name": "stdout",
     "output_type": "stream",
     "text": [
      "Happy Birthday Johnny!\n"
     ]
    }
   ],
   "source": [
    "happy_birthday_print('Johnny')"
   ]
  },
  {
   "cell_type": "code",
   "execution_count": 36,
   "id": "38ce1e7a",
   "metadata": {},
   "outputs": [],
   "source": [
    "message = happy_birthday('Johnny')"
   ]
  },
  {
   "cell_type": "code",
   "execution_count": 37,
   "id": "c2890bb5",
   "metadata": {},
   "outputs": [
    {
     "data": {
      "text/plain": [
       "'Happy Birthday Johnny!'"
      ]
     },
     "execution_count": 37,
     "metadata": {},
     "output_type": "execute_result"
    }
   ],
   "source": [
    "message"
   ]
  },
  {
   "cell_type": "code",
   "execution_count": 38,
   "id": "8d07fb47",
   "metadata": {},
   "outputs": [
    {
     "name": "stdout",
     "output_type": "stream",
     "text": [
      "Happy Birthday Johnny!\n"
     ]
    }
   ],
   "source": [
    "message2 = happy_birthday_print('Johnny')"
   ]
  },
  {
   "cell_type": "code",
   "execution_count": null,
   "id": "42f4a11a",
   "metadata": {},
   "outputs": [],
   "source": []
  }
 ],
 "metadata": {
  "kernelspec": {
   "display_name": "Python 3 (ipykernel)",
   "language": "python",
   "name": "python3"
  },
  "language_info": {
   "codemirror_mode": {
    "name": "ipython",
    "version": 3
   },
   "file_extension": ".py",
   "mimetype": "text/x-python",
   "name": "python",
   "nbconvert_exporter": "python",
   "pygments_lexer": "ipython3",
   "version": "3.11.5"
  }
 },
 "nbformat": 4,
 "nbformat_minor": 5
}
