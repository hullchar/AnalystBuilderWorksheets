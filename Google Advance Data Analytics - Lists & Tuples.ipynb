{
 "cells": [
  {
   "cell_type": "code",
   "execution_count": 1,
   "id": "14865592",
   "metadata": {},
   "outputs": [
    {
     "name": "stdout",
     "output_type": "stream",
     "text": [
      "cooking\n"
     ]
    }
   ],
   "source": [
    "x = ['Now', 'we', 'are', 'cooking', 'with', 7, 'ingredients']\n",
    "print(x[3])"
   ]
  },
  {
   "cell_type": "code",
   "execution_count": 2,
   "id": "875c235b",
   "metadata": {},
   "outputs": [
    {
     "data": {
      "text/plain": [
       "['we', 'are']"
      ]
     },
     "execution_count": 2,
     "metadata": {},
     "output_type": "execute_result"
    }
   ],
   "source": [
    "x [1:3]"
   ]
  },
  {
   "cell_type": "code",
   "execution_count": 3,
   "id": "0e6a02cc",
   "metadata": {},
   "outputs": [
    {
     "data": {
      "text/plain": [
       "['Now', 'we']"
      ]
     },
     "execution_count": 3,
     "metadata": {},
     "output_type": "execute_result"
    }
   ],
   "source": [
    "x[:2]"
   ]
  },
  {
   "cell_type": "code",
   "execution_count": 4,
   "id": "5741e9da",
   "metadata": {},
   "outputs": [
    {
     "data": {
      "text/plain": [
       "['are', 'cooking', 'with', 7, 'ingredients']"
      ]
     },
     "execution_count": 4,
     "metadata": {},
     "output_type": "execute_result"
    }
   ],
   "source": [
    "x[2:]"
   ]
  },
  {
   "cell_type": "code",
   "execution_count": 5,
   "id": "21fbdc95",
   "metadata": {},
   "outputs": [
    {
     "data": {
      "text/plain": [
       "False"
      ]
     },
     "execution_count": 5,
     "metadata": {},
     "output_type": "execute_result"
    }
   ],
   "source": [
    "'This' in x"
   ]
  },
  {
   "cell_type": "code",
   "execution_count": 6,
   "id": "0312f3bb",
   "metadata": {},
   "outputs": [
    {
     "name": "stdout",
     "output_type": "stream",
     "text": [
      "['pineapples', 'banana', 'apple', 'melon']\n"
     ]
    }
   ],
   "source": [
    "fruits = ['pineapples','banana','apple','melon']\n",
    "print(fruits)"
   ]
  },
  {
   "cell_type": "code",
   "execution_count": 7,
   "id": "8d93e9a0",
   "metadata": {},
   "outputs": [
    {
     "name": "stdout",
     "output_type": "stream",
     "text": [
      "['pineapples', 'banana', 'apple', 'melon', 'kiwi']\n"
     ]
    }
   ],
   "source": [
    "fruits.append('kiwi')\n",
    "print(fruits)"
   ]
  },
  {
   "cell_type": "code",
   "execution_count": 8,
   "id": "0e8f3f72",
   "metadata": {},
   "outputs": [
    {
     "name": "stdout",
     "output_type": "stream",
     "text": [
      "['pineapples', 'orange', 'banana', 'apple', 'melon', 'kiwi']\n"
     ]
    }
   ],
   "source": [
    "fruits.insert(1,'orange')\n",
    "print(fruits)"
   ]
  },
  {
   "cell_type": "code",
   "execution_count": 9,
   "id": "9d89c26b",
   "metadata": {},
   "outputs": [
    {
     "name": "stdout",
     "output_type": "stream",
     "text": [
      "['mango', 'pineapples', 'orange', 'banana', 'apple', 'melon', 'kiwi']\n"
     ]
    }
   ],
   "source": [
    "fruits.insert(0,'mango')\n",
    "print(fruits)"
   ]
  },
  {
   "cell_type": "code",
   "execution_count": 10,
   "id": "02bbf43e",
   "metadata": {},
   "outputs": [
    {
     "name": "stdout",
     "output_type": "stream",
     "text": [
      "['mango', 'pineapples', 'orange', 'apple', 'melon', 'kiwi']\n"
     ]
    }
   ],
   "source": [
    "fruits.remove('banana')\n",
    "print(fruits)"
   ]
  },
  {
   "cell_type": "code",
   "execution_count": 11,
   "id": "d248c8dc",
   "metadata": {},
   "outputs": [
    {
     "name": "stdout",
     "output_type": "stream",
     "text": [
      "['mango', 'pineapples', 'apple', 'melon', 'kiwi']\n"
     ]
    }
   ],
   "source": [
    "fruits.pop(2)\n",
    "print(fruits)"
   ]
  },
  {
   "cell_type": "code",
   "execution_count": 12,
   "id": "ec129094",
   "metadata": {},
   "outputs": [
    {
     "name": "stdout",
     "output_type": "stream",
     "text": [
      "['mango', 'mango', 'apple', 'melon', 'kiwi']\n"
     ]
    }
   ],
   "source": [
    "fruits[1] = 'mango'\n",
    "print(fruits)"
   ]
  },
  {
   "cell_type": "code",
   "execution_count": 14,
   "id": "5c2971f1",
   "metadata": {},
   "outputs": [
    {
     "name": "stdout",
     "output_type": "stream",
     "text": [
      "1.21 gigawatts\n"
     ]
    }
   ],
   "source": [
    "power = '1.21'\n",
    "power = power + ' gigawatts'\n",
    "print(power)"
   ]
  },
  {
   "cell_type": "code",
   "execution_count": 16,
   "id": "640355fd",
   "metadata": {},
   "outputs": [
    {
     "name": "stdout",
     "output_type": "stream",
     "text": [
      "[2.21, 'gigawatts']\n"
     ]
    }
   ],
   "source": [
    "power = [1.21, 'gigawatts']\n",
    "power[0] = 2.21\n",
    "print(power)"
   ]
  },
  {
   "cell_type": "code",
   "execution_count": 17,
   "id": "bf9f7c01",
   "metadata": {},
   "outputs": [
    {
     "name": "stdout",
     "output_type": "stream",
     "text": [
      "['olive', 'palm', 'coconut']\n"
     ]
    }
   ],
   "source": [
    "list_a = ['olive', 'palm', 'coconut']\n",
    "print(list_a)"
   ]
  },
  {
   "cell_type": "code",
   "execution_count": 18,
   "id": "2418e463",
   "metadata": {},
   "outputs": [
    {
     "name": "stdout",
     "output_type": "stream",
     "text": [
      "[8, 6, 7, 5, 3, 0, 8]\n"
     ]
    }
   ],
   "source": [
    "list_b = [8, 6, 7, 5, 3, 0, 8]\n",
    "print(list_b)"
   ]
  },
  {
   "cell_type": "code",
   "execution_count": 19,
   "id": "d109011e",
   "metadata": {},
   "outputs": [
    {
     "name": "stdout",
     "output_type": "stream",
     "text": [
      "['Abidjan', 14.2, [1, 2, None], 'Zagreb']\n"
     ]
    }
   ],
   "source": [
    "list_c = ['Abidjan', 14.2, [1, 2, None], 'Zagreb']\n",
    "print(list_c)"
   ]
  },
  {
   "cell_type": "code",
   "execution_count": 20,
   "id": "49fae654",
   "metadata": {},
   "outputs": [],
   "source": [
    "empty_list_1 = []\n",
    "empty_list_2 = list()"
   ]
  },
  {
   "cell_type": "code",
   "execution_count": 21,
   "id": "dfd63625",
   "metadata": {},
   "outputs": [
    {
     "name": "stdout",
     "output_type": "stream",
     "text": [
      "inclinant\n"
     ]
    }
   ],
   "source": [
    "phrase = ['Astra', 'inclinant', 'sed', 'non', 'obligant']\n",
    "print(phrase[1])"
   ]
  },
  {
   "cell_type": "code",
   "execution_count": 22,
   "id": "f59a3175",
   "metadata": {},
   "outputs": [
    {
     "name": "stdout",
     "output_type": "stream",
     "text": [
      "obligant\n"
     ]
    }
   ],
   "source": [
    "phrase = ['Astra', 'inclinant', 'sed', 'non', 'obligant']\n",
    "print(phrase[-1])"
   ]
  },
  {
   "cell_type": "code",
   "execution_count": 23,
   "id": "7d939ef1",
   "metadata": {},
   "outputs": [
    {
     "name": "stdout",
     "output_type": "stream",
     "text": [
      "['inclinant', 'sed', 'non']\n"
     ]
    }
   ],
   "source": [
    "phrase = ['Astra', 'inclinant', 'sed', 'non', 'obligant']\n",
    "print(phrase[1:4])"
   ]
  },
  {
   "cell_type": "code",
   "execution_count": 24,
   "id": "c55f201f",
   "metadata": {},
   "outputs": [
    {
     "name": "stdout",
     "output_type": "stream",
     "text": [
      "['Astra', 'inclinant', 'sed']\n",
      "['non', 'obligant']\n"
     ]
    }
   ],
   "source": [
    "phrase = ['Astra', 'inclinant', 'sed', 'non', 'obligant']\n",
    "print(phrase[:3])\n",
    "print(phrase[3:])"
   ]
  },
  {
   "cell_type": "code",
   "execution_count": 25,
   "id": "4fb15974",
   "metadata": {},
   "outputs": [
    {
     "name": "stdout",
     "output_type": "stream",
     "text": [
      "['Macduff', 'Malcolm', 'Macbeth', 'Banquo']\n"
     ]
    }
   ],
   "source": [
    "my_list = ['Macduff', 'Malcolm', 'Duncan', 'Banquo']\n",
    "my_list[2] = 'Macbeth'\n",
    "print(my_list)"
   ]
  },
  {
   "cell_type": "code",
   "execution_count": 26,
   "id": "dfe30673",
   "metadata": {},
   "outputs": [
    {
     "name": "stdout",
     "output_type": "stream",
     "text": [
      "['Macduff', 1, 2, 3, 4, 'Banquo']\n"
     ]
    }
   ],
   "source": [
    "my_list = ['Macduff', 'Malcolm', 'Macbeth', 'Banquo']\n",
    "my_list[1:3] = [1, 2, 3, 4]\n",
    "print(my_list)"
   ]
  },
  {
   "cell_type": "code",
   "execution_count": 27,
   "id": "054beb5f",
   "metadata": {},
   "outputs": [
    {
     "data": {
      "text/plain": [
       "[1, 2, 3, 'a', 'b', 'c']"
      ]
     },
     "execution_count": 27,
     "metadata": {},
     "output_type": "execute_result"
    }
   ],
   "source": [
    "num_list = [1, 2, 3]\n",
    "char_list = ['a', 'b', 'c']\n",
    "num_list + char_list"
   ]
  },
  {
   "cell_type": "code",
   "execution_count": 28,
   "id": "f7af26cc",
   "metadata": {},
   "outputs": [
    {
     "data": {
      "text/plain": [
       "['a', 'b', 'c', 'a', 'b', 'c']"
      ]
     },
     "execution_count": 28,
     "metadata": {},
     "output_type": "execute_result"
    }
   ],
   "source": [
    "list_a = ['a', 'b', 'c']\n",
    "list_a * 2"
   ]
  },
  {
   "cell_type": "code",
   "execution_count": 29,
   "id": "dac4b7b7",
   "metadata": {},
   "outputs": [
    {
     "name": "stdout",
     "output_type": "stream",
     "text": [
      "False\n",
      "True\n"
     ]
    }
   ],
   "source": [
    "num_list = [2, 4, 6]\n",
    "print(5 in num_list)\n",
    "print(5 not in num_list)"
   ]
  },
  {
   "cell_type": "code",
   "execution_count": 30,
   "id": "f71f2938",
   "metadata": {},
   "outputs": [
    {
     "name": "stdout",
     "output_type": "stream",
     "text": [
      "[0, 1, 1, 2, 3, 5]\n"
     ]
    }
   ],
   "source": [
    "my_list = [0, 1, 1, 2, 3]\n",
    "variable = 5\n",
    "my_list.append(variable)\n",
    "print(my_list)"
   ]
  },
  {
   "cell_type": "code",
   "execution_count": 31,
   "id": "36c852d0",
   "metadata": {},
   "outputs": [
    {
     "name": "stdout",
     "output_type": "stream",
     "text": [
      "['a', 'b', 'c', 'd']\n"
     ]
    }
   ],
   "source": [
    "my_list = ['a', 'b', 'd']\n",
    "my_list.insert(2, 'c')\n",
    "print(my_list)"
   ]
  },
  {
   "cell_type": "code",
   "execution_count": 32,
   "id": "d43fdeb3",
   "metadata": {},
   "outputs": [
    {
     "name": "stdout",
     "output_type": "stream",
     "text": [
      "['b', 'd', 'a']\n"
     ]
    }
   ],
   "source": [
    "my_list = ['a', 'b', 'd', 'a']\n",
    "my_list.remove('a')\n",
    "print(my_list)"
   ]
  },
  {
   "cell_type": "code",
   "execution_count": 33,
   "id": "5d433506",
   "metadata": {},
   "outputs": [
    {
     "name": "stdout",
     "output_type": "stream",
     "text": [
      "c\n",
      "['a', 'b']\n"
     ]
    }
   ],
   "source": [
    "my_list = ['a', 'b', 'c']\n",
    "print(my_list.pop())\n",
    "print(my_list)"
   ]
  },
  {
   "cell_type": "code",
   "execution_count": 34,
   "id": "cff83446",
   "metadata": {},
   "outputs": [
    {
     "name": "stdout",
     "output_type": "stream",
     "text": [
      "[]\n"
     ]
    }
   ],
   "source": [
    "my_list = ['a', 'b', 'c']\n",
    "my_list.clear()\n",
    "print(my_list)"
   ]
  },
  {
   "cell_type": "code",
   "execution_count": 35,
   "id": "1f3c97da",
   "metadata": {},
   "outputs": [
    {
     "data": {
      "text/plain": [
       "0"
      ]
     },
     "execution_count": 35,
     "metadata": {},
     "output_type": "execute_result"
    }
   ],
   "source": [
    "my_list = ['a', 'b', 'c', 'a']\n",
    "my_list.index('a')"
   ]
  },
  {
   "cell_type": "code",
   "execution_count": 36,
   "id": "880a784a",
   "metadata": {},
   "outputs": [
    {
     "data": {
      "text/plain": [
       "2"
      ]
     },
     "execution_count": 36,
     "metadata": {},
     "output_type": "execute_result"
    }
   ],
   "source": [
    "my_list = ['a', 'b', 'c', 'a']\n",
    "my_list.count('a')"
   ]
  },
  {
   "cell_type": "code",
   "execution_count": 37,
   "id": "1e6039b9",
   "metadata": {},
   "outputs": [
    {
     "name": "stdout",
     "output_type": "stream",
     "text": [
      "['a', 'b', 'c']\n",
      "[3, 2, 1]\n"
     ]
    }
   ],
   "source": [
    "char_list = ['b', 'c', 'a']\n",
    "num_list = [2, 3, 1]\n",
    "char_list.sort()\n",
    "num_list.sort(reverse=True)\n",
    "print(char_list)\n",
    "print(num_list)"
   ]
  },
  {
   "cell_type": "code",
   "execution_count": 1,
   "id": "b7952f3b",
   "metadata": {},
   "outputs": [
    {
     "name": "stdout",
     "output_type": "stream",
     "text": [
      "('Masha', 'Z', 'Hopper')\n"
     ]
    }
   ],
   "source": [
    "# Tuples\n",
    "\n",
    "fullname = ['Masha', 'Z', 'Hopper']\n",
    "fullname = tuple(fullname)\n",
    "print(fullname)"
   ]
  },
  {
   "cell_type": "code",
   "execution_count": 2,
   "id": "5edf8e20",
   "metadata": {},
   "outputs": [],
   "source": [
    "def to_dollars_cents(price):\n",
    "    '''\n",
    "    Split price (float) into dollars and cents.\n",
    "    '''\n",
    "    dollars = int(price // 1)\n",
    "    cents = round(price % 1 * 100)\n",
    "    \n",
    "    return dollars, cents "
   ]
  },
  {
   "cell_type": "code",
   "execution_count": 3,
   "id": "4a7a1594",
   "metadata": {},
   "outputs": [
    {
     "data": {
      "text/plain": [
       "(6, 55)"
      ]
     },
     "execution_count": 3,
     "metadata": {},
     "output_type": "execute_result"
    }
   ],
   "source": [
    "to_dollars_cents(6.55)"
   ]
  },
  {
   "cell_type": "code",
   "execution_count": 4,
   "id": "6894c114",
   "metadata": {},
   "outputs": [],
   "source": [
    "dollars, cents = to_dollars_cents(6.55)"
   ]
  },
  {
   "cell_type": "code",
   "execution_count": 5,
   "id": "78650006",
   "metadata": {},
   "outputs": [
    {
     "name": "stdout",
     "output_type": "stream",
     "text": [
      "7\n",
      "56\n"
     ]
    }
   ],
   "source": [
    "print(dollars + 1)\n",
    "print(cents + 1)"
   ]
  },
  {
   "cell_type": "code",
   "execution_count": 6,
   "id": "633eb76f",
   "metadata": {},
   "outputs": [
    {
     "data": {
      "text/plain": [
       "int"
      ]
     },
     "execution_count": 6,
     "metadata": {},
     "output_type": "execute_result"
    }
   ],
   "source": [
    "type(dollars)"
   ]
  },
  {
   "cell_type": "code",
   "execution_count": 7,
   "id": "08059c82",
   "metadata": {},
   "outputs": [
    {
     "name": "stdout",
     "output_type": "stream",
     "text": [
      "Marta\n",
      "Ana\n",
      "Gabi\n",
      "Luz\n",
      "Lorena\n"
     ]
    }
   ],
   "source": [
    "team = [('Marta', 20, 'center'),\n",
    "       ('Ana', 22, 'point guard'),\n",
    "       ('Gabi', 22, 'shooting guard'),\n",
    "       ('Luz', 21, 'power forward'),\n",
    "       ('Lorena', 19, 'small forward'),\n",
    "       ]\n",
    "\n",
    "for name, age, position in team:\n",
    "    print(name)"
   ]
  },
  {
   "cell_type": "code",
   "execution_count": 8,
   "id": "82842a84",
   "metadata": {},
   "outputs": [
    {
     "name": "stdout",
     "output_type": "stream",
     "text": [
      "Marta\n",
      "Ana\n",
      "Gabi\n",
      "Luz\n",
      "Lorena\n"
     ]
    }
   ],
   "source": [
    "for player in team:\n",
    "    print(player[0])"
   ]
  },
  {
   "cell_type": "code",
   "execution_count": 9,
   "id": "1d7d4251",
   "metadata": {},
   "outputs": [],
   "source": [
    "empty_str = ''\n",
    "my_string1 = 'minerals'\n",
    "my_string2 = \"martin\"\n",
    "my_string3 = \"\"\"\n",
    "marathon\n",
    "golfcart\n",
    "\"\"\""
   ]
  },
  {
   "cell_type": "code",
   "execution_count": 10,
   "id": "2a1cefa3",
   "metadata": {},
   "outputs": [
    {
     "data": {
      "text/plain": [
       "'\\nmarathon\\ngolfcart\\n'"
      ]
     },
     "execution_count": 10,
     "metadata": {},
     "output_type": "execute_result"
    }
   ],
   "source": [
    "my_string3 = \"\"\"\n",
    "marathon\n",
    "golfcart\n",
    "\"\"\"\n",
    "\n",
    "my_string3"
   ]
  },
  {
   "cell_type": "code",
   "execution_count": 11,
   "id": "54bfb3fe",
   "metadata": {},
   "outputs": [],
   "source": [
    " empty_str = str()\n",
    "my_string = str(125)"
   ]
  },
  {
   "cell_type": "code",
   "execution_count": 12,
   "id": "bdbf0a74",
   "metadata": {},
   "outputs": [],
   "source": [
    "empty_list = []\n",
    "my_list = [1, 2, 3, 4, 5]"
   ]
  },
  {
   "cell_type": "code",
   "execution_count": 13,
   "id": "0f4492ff",
   "metadata": {},
   "outputs": [
    {
     "name": "stdout",
     "output_type": "stream",
     "text": [
      "['r', 'o', 'c', 'k', 's']\n",
      "['stones', 'water', 'underground']\n"
     ]
    }
   ],
   "source": [
    "print(list('rocks'))\n",
    "print(list(('stones', 'water', 'underground')))"
   ]
  },
  {
   "cell_type": "code",
   "execution_count": 14,
   "id": "6a79a226",
   "metadata": {},
   "outputs": [],
   "source": [
    "my_list = [1, 2, 1, 2, 'And through', ['and', 'through']]"
   ]
  },
  {
   "cell_type": "code",
   "execution_count": 15,
   "id": "bd3a2ba7",
   "metadata": {},
   "outputs": [
    {
     "name": "stdout",
     "output_type": "stream",
     "text": [
      "[5446, 2, 3]\n"
     ]
    }
   ],
   "source": [
    "num_list = [1, 2, 3]\n",
    "num_list[0] = 5446\n",
    "print(num_list)"
   ]
  },
  {
   "cell_type": "code",
   "execution_count": 16,
   "id": "e5a1428b",
   "metadata": {},
   "outputs": [],
   "source": [
    "empty_tuple = ()\n",
    "my_tuple = (1, 'z')"
   ]
  },
  {
   "cell_type": "code",
   "execution_count": 17,
   "id": "1ec945d4",
   "metadata": {},
   "outputs": [
    {
     "name": "stdout",
     "output_type": "stream",
     "text": [
      "<class 'int'>\n",
      "<class 'tuple'>\n"
     ]
    }
   ],
   "source": [
    "test1 = (1)\n",
    "test2 = (2,)\n",
    "\n",
    "print(type(test1))\n",
    "print(type(test2))"
   ]
  },
  {
   "cell_type": "code",
   "execution_count": 18,
   "id": "33612cee",
   "metadata": {},
   "outputs": [
    {
     "name": "stdout",
     "output_type": "stream",
     "text": [
      "<class 'tuple'>\n",
      "<class 'tuple'>\n"
     ]
    }
   ],
   "source": [
    "tuple1 = 1,\n",
    "tuple2 = 2, 3\n",
    "\n",
    "print(type(tuple1))\n",
    "print(type(tuple2))"
   ]
  },
  {
   "cell_type": "code",
   "execution_count": 19,
   "id": "e16ff61c",
   "metadata": {},
   "outputs": [],
   "source": [
    "empty_tuple = tuple()\n",
    "my_tuple = tuple([1, 'z'])"
   ]
  },
  {
   "cell_type": "code",
   "execution_count": 20,
   "id": "8970b6b6",
   "metadata": {},
   "outputs": [],
   "source": [
    "my_tuple = (1871, 'all', 'mimsy', ('were', 'the'), ['borogroves'])"
   ]
  },
  {
   "cell_type": "code",
   "execution_count": 22,
   "id": "74df90d6",
   "metadata": {},
   "outputs": [
    {
     "name": "stdout",
     "output_type": "stream",
     "text": [
      "Name:               Marta \n",
      "Position:          center\n",
      "\n",
      "Name:                 Ana \n",
      "Position:     point guard\n",
      "\n",
      "Name:                Gabi \n",
      "Position:  shooting guard\n",
      "\n",
      "Name:                 Luz \n",
      "Position:   power forward\n",
      "\n",
      "Name:              Lorena \n",
      "Position:   small forward\n",
      "\n"
     ]
    }
   ],
   "source": [
    "# More with Loops, Lists, and Tuples\n",
    "\n",
    "team = [('Marta', 20, 'center'),\n",
    "       ('Ana', 22, 'point guard'),\n",
    "       ('Gabi', 22, 'shooting guard'),\n",
    "       ('Luz', 21, 'power forward'),\n",
    "       ('Lorena', 19, 'small forward'),\n",
    "       ]\n",
    "\n",
    "def player_position(players):\n",
    "    result = []\n",
    "    for name, age, position in players:\n",
    "        result.append('Name: {:>19} \\nPosition: {:>15}\\n'.format(name, position))\n",
    "        \n",
    "    return result\n",
    "\n",
    "for player in player_position(team):\n",
    "    print(player)"
   ]
  },
  {
   "cell_type": "code",
   "execution_count": 24,
   "id": "f0d44f01",
   "metadata": {},
   "outputs": [
    {
     "name": "stdout",
     "output_type": "stream",
     "text": [
      "[0|0] [0|1] [0|2] [0|3] [0|4] [0|5] [0|6] \n",
      "\n",
      "[1|1] [1|2] [1|3] [1|4] [1|5] [1|6] \n",
      "\n",
      "[2|2] [2|3] [2|4] [2|5] [2|6] \n",
      "\n",
      "[3|3] [3|4] [3|5] [3|6] \n",
      "\n",
      "[4|4] [4|5] [4|6] \n",
      "\n",
      "[5|5] [5|6] \n",
      "\n",
      "[6|6] \n",
      "\n"
     ]
    }
   ],
   "source": [
    "for left in range(7):\n",
    "    for right in range(left, 7):\n",
    "        print(f\"[{left}|{right}]\", end=\" \")\n",
    "    print('\\n')"
   ]
  },
  {
   "cell_type": "code",
   "execution_count": 25,
   "id": "2ff420de",
   "metadata": {},
   "outputs": [
    {
     "data": {
      "text/plain": [
       "[(0, 0),\n",
       " (0, 1),\n",
       " (0, 2),\n",
       " (0, 3),\n",
       " (0, 4),\n",
       " (0, 5),\n",
       " (0, 6),\n",
       " (1, 1),\n",
       " (1, 2),\n",
       " (1, 3),\n",
       " (1, 4),\n",
       " (1, 5),\n",
       " (1, 6),\n",
       " (2, 2),\n",
       " (2, 3),\n",
       " (2, 4),\n",
       " (2, 5),\n",
       " (2, 6),\n",
       " (3, 3),\n",
       " (3, 4),\n",
       " (3, 5),\n",
       " (3, 6),\n",
       " (4, 4),\n",
       " (4, 5),\n",
       " (4, 6),\n",
       " (5, 5),\n",
       " (5, 6),\n",
       " (6, 6)]"
      ]
     },
     "execution_count": 25,
     "metadata": {},
     "output_type": "execute_result"
    }
   ],
   "source": [
    "dominoes = []\n",
    "for left in range(7):\n",
    "    for right in range(left, 7):\n",
    "        dominoes.append((left, right))\n",
    "dominoes"
   ]
  },
  {
   "cell_type": "code",
   "execution_count": 26,
   "id": "25055110",
   "metadata": {},
   "outputs": [
    {
     "data": {
      "text/plain": [
       "4"
      ]
     },
     "execution_count": 26,
     "metadata": {},
     "output_type": "execute_result"
    }
   ],
   "source": [
    "dominoes[4][1]"
   ]
  },
  {
   "cell_type": "code",
   "execution_count": 27,
   "id": "3798b0b6",
   "metadata": {},
   "outputs": [
    {
     "name": "stdout",
     "output_type": "stream",
     "text": [
      "[0, 1, 2, 3, 4, 5, 6, 2, 3, 4, 5, 6, 7, 4, 5, 6, 7, 8, 6, 7, 8, 9, 8, 9, 10, 10, 11, 12]\n"
     ]
    }
   ],
   "source": [
    "pips_from_loop = []\n",
    "for domino in dominoes:\n",
    "    pips_from_loop.append(domino[0] + domino[1])\n",
    "print(pips_from_loop)"
   ]
  },
  {
   "cell_type": "code",
   "execution_count": 28,
   "id": "956a691d",
   "metadata": {},
   "outputs": [
    {
     "data": {
      "text/plain": [
       "True"
      ]
     },
     "execution_count": 28,
     "metadata": {},
     "output_type": "execute_result"
    }
   ],
   "source": [
    "# List Comprehension\n",
    "\n",
    "pips_from_list_comp = [domino[0] + domino[1] for domino in dominoes]\n",
    "\n",
    "pips_from_loop == pips_from_list_comp"
   ]
  },
  {
   "cell_type": "code",
   "execution_count": 29,
   "id": "7b9f4e6e",
   "metadata": {},
   "outputs": [
    {
     "name": "stdout",
     "output_type": "stream",
     "text": [
      "<zip object at 0x0000010FF4ED2E00>\n",
      "[('Paris', 'France'), ('Lagos', 'Nigeria'), ('Mumbai', 'India')]\n"
     ]
    }
   ],
   "source": [
    "cities = ['Paris', 'Lagos', 'Mumbai']\n",
    "countries = ['France', 'Nigeria', 'India']\n",
    "places = zip(cities, countries)\n",
    "\n",
    "\n",
    "print(places)\n",
    "print(list(places))"
   ]
  },
  {
   "cell_type": "code",
   "execution_count": 30,
   "id": "ad340c19",
   "metadata": {},
   "outputs": [
    {
     "name": "stdout",
     "output_type": "stream",
     "text": [
      "('Nikola', 'Charles', 'Marie')\n",
      "('Tesla', 'Darwin', 'Curie')\n"
     ]
    }
   ],
   "source": [
    "scientists = [('Nikola', 'Tesla'), ('Charles', 'Darwin'), ('Marie', 'Curie')]\n",
    "given_names, surnames = zip(*scientists)\n",
    "print(given_names)\n",
    "print(surnames)"
   ]
  },
  {
   "cell_type": "code",
   "execution_count": 31,
   "id": "8e8f8037",
   "metadata": {},
   "outputs": [
    {
     "name": "stdout",
     "output_type": "stream",
     "text": [
      "0 a\n",
      "1 b\n",
      "2 c\n"
     ]
    }
   ],
   "source": [
    "letters = ['a', 'b', 'c']\n",
    "for index, letter in enumerate(letters):\n",
    "   print(index, letter)"
   ]
  },
  {
   "cell_type": "code",
   "execution_count": 32,
   "id": "16c15d3b",
   "metadata": {},
   "outputs": [
    {
     "name": "stdout",
     "output_type": "stream",
     "text": [
      "2 a\n",
      "3 b\n",
      "4 c\n"
     ]
    }
   ],
   "source": [
    "letters = ['a', 'b', 'c']\n",
    "for index, letter in enumerate(letters, 2):\n",
    "   print(index, letter)"
   ]
  },
  {
   "cell_type": "code",
   "execution_count": 33,
   "id": "668935bf",
   "metadata": {},
   "outputs": [
    {
     "name": "stdout",
     "output_type": "stream",
     "text": [
      "[11, 12, 13, 14, 15]\n"
     ]
    }
   ],
   "source": [
    "numbers = [1, 2, 3, 4, 5]\n",
    "new_list = [x + 10 for x in numbers]\n",
    "print(new_list)"
   ]
  },
  {
   "cell_type": "code",
   "execution_count": 34,
   "id": "c75abfb6",
   "metadata": {},
   "outputs": [
    {
     "name": "stdout",
     "output_type": "stream",
     "text": [
      "[('E', 'n'), ('S', 'a')]\n"
     ]
    }
   ],
   "source": [
    "words = ['Emotan', 'Amina', 'Ibeno', 'Sankwala']\n",
    "new_list = [(word[0], word[-1]) for word in words if len(word) > 5]\n",
    "print(new_list)"
   ]
  },
  {
   "cell_type": "code",
   "execution_count": null,
   "id": "37c46cd6",
   "metadata": {},
   "outputs": [],
   "source": []
  }
 ],
 "metadata": {
  "kernelspec": {
   "display_name": "Python 3 (ipykernel)",
   "language": "python",
   "name": "python3"
  },
  "language_info": {
   "codemirror_mode": {
    "name": "ipython",
    "version": 3
   },
   "file_extension": ".py",
   "mimetype": "text/x-python",
   "name": "python",
   "nbconvert_exporter": "python",
   "pygments_lexer": "ipython3",
   "version": "3.11.5"
  }
 },
 "nbformat": 4,
 "nbformat_minor": 5
}
