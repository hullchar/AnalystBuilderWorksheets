{
 "cells": [
  {
   "cell_type": "code",
   "execution_count": 1,
   "id": "ede0c4e1",
   "metadata": {},
   "outputs": [
    {
     "data": {
      "text/plain": [
       "False"
      ]
     },
     "execution_count": 1,
     "metadata": {},
     "output_type": "execute_result"
    }
   ],
   "source": [
    "# 'and' True if both the operands are true / x and y\n",
    "# 'or' True if either of the operands is true / x or y\n",
    "# 'not' True if operand is false (complements the operand) / not x\n",
    "\n",
    "(4 > 5) and (2 < 3)"
   ]
  },
  {
   "cell_type": "code",
   "execution_count": 3,
   "id": "463975c8",
   "metadata": {},
   "outputs": [
    {
     "data": {
      "text/plain": [
       "True"
      ]
     },
     "execution_count": 3,
     "metadata": {},
     "output_type": "execute_result"
    }
   ],
   "source": [
    "(7 > 5) and (2 < 3)"
   ]
  },
  {
   "cell_type": "code",
   "execution_count": 4,
   "id": "108ce209",
   "metadata": {},
   "outputs": [
    {
     "data": {
      "text/plain": [
       "True"
      ]
     },
     "execution_count": 4,
     "metadata": {},
     "output_type": "execute_result"
    }
   ],
   "source": [
    "(4 > 5) or (2 < 3)"
   ]
  },
  {
   "cell_type": "code",
   "execution_count": 5,
   "id": "c75ae180",
   "metadata": {},
   "outputs": [
    {
     "data": {
      "text/plain": [
       "False"
      ]
     },
     "execution_count": 5,
     "metadata": {},
     "output_type": "execute_result"
    }
   ],
   "source": [
    "(4 > 5) or (5 < 3)"
   ]
  },
  {
   "cell_type": "code",
   "execution_count": 7,
   "id": "c4b201cd",
   "metadata": {},
   "outputs": [
    {
     "data": {
      "text/plain": [
       "True"
      ]
     },
     "execution_count": 7,
     "metadata": {},
     "output_type": "execute_result"
    }
   ],
   "source": [
    "(2==2) and ((2==3) or (4==4))"
   ]
  },
  {
   "cell_type": "code",
   "execution_count": 8,
   "id": "40a647bb",
   "metadata": {},
   "outputs": [
    {
     "data": {
      "text/plain": [
       "True"
      ]
     },
     "execution_count": 8,
     "metadata": {},
     "output_type": "execute_result"
    }
   ],
   "source": [
    "not(4 > 5)"
   ]
  },
  {
   "cell_type": "code",
   "execution_count": 9,
   "id": "f7bffab2",
   "metadata": {},
   "outputs": [
    {
     "data": {
      "text/plain": [
       "False"
      ]
     },
     "execution_count": 9,
     "metadata": {},
     "output_type": "execute_result"
    }
   ],
   "source": [
    "not(6 >5)"
   ]
  },
  {
   "cell_type": "code",
   "execution_count": null,
   "id": "57e5045b",
   "metadata": {},
   "outputs": [],
   "source": []
  }
 ],
 "metadata": {
  "kernelspec": {
   "display_name": "Python 3 (ipykernel)",
   "language": "python",
   "name": "python3"
  },
  "language_info": {
   "codemirror_mode": {
    "name": "ipython",
    "version": 3
   },
   "file_extension": ".py",
   "mimetype": "text/x-python",
   "name": "python",
   "nbconvert_exporter": "python",
   "pygments_lexer": "ipython3",
   "version": "3.11.5"
  }
 },
 "nbformat": 4,
 "nbformat_minor": 5
}
