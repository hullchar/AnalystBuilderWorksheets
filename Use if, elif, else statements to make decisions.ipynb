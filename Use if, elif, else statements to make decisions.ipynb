{
 "cells": [
  {
   "cell_type": "code",
   "execution_count": null,
   "id": "3d329c02",
   "metadata": {},
   "outputs": [],
   "source": [
    "def hint_username(username): \n",
    "    if len(username) < 8: \n",
    "        print('Invalid username. Must be at least 8 characters long.')\n",
    "    else:\n",
    "        if len(username) > 15:\n",
    "            print('Invalid username. Cannot exceed 15 characters.')\n",
    "        else: \n",
    "            print('Valid username.')"
   ]
  },
  {
   "cell_type": "code",
   "execution_count": 1,
   "id": "5160f2c4",
   "metadata": {},
   "outputs": [
    {
     "data": {
      "text/plain": [
       "1"
      ]
     },
     "execution_count": 1,
     "metadata": {},
     "output_type": "execute_result"
    }
   ],
   "source": [
    "5 % 2"
   ]
  },
  {
   "cell_type": "code",
   "execution_count": 2,
   "id": "944aba1a",
   "metadata": {},
   "outputs": [
    {
     "data": {
      "text/plain": [
       "2"
      ]
     },
     "execution_count": 2,
     "metadata": {},
     "output_type": "execute_result"
    }
   ],
   "source": [
    "11 % 3"
   ]
  },
  {
   "cell_type": "code",
   "execution_count": 3,
   "id": "7a23ea68",
   "metadata": {},
   "outputs": [
    {
     "data": {
      "text/plain": [
       "0"
      ]
     },
     "execution_count": 3,
     "metadata": {},
     "output_type": "execute_result"
    }
   ],
   "source": [
    "10 % 2"
   ]
  },
  {
   "cell_type": "code",
   "execution_count": 4,
   "id": "3151b6c4",
   "metadata": {},
   "outputs": [
    {
     "data": {
      "text/plain": [
       "False"
      ]
     },
     "execution_count": 4,
     "metadata": {},
     "output_type": "execute_result"
    }
   ],
   "source": [
    "def is_even(number):\n",
    "    if number % 2 == 0:\n",
    "        return True\n",
    "    return False\n",
    "\n",
    "is_even(19)"
   ]
  },
  {
   "cell_type": "code",
   "execution_count": 6,
   "id": "027fe93d",
   "metadata": {},
   "outputs": [
    {
     "name": "stdout",
     "output_type": "stream",
     "text": [
      "Invalid username. Cannot exceed 15 characters.\n",
      "Valid username.\n"
     ]
    }
   ],
   "source": [
    "def hint_username(username): \n",
    "    if len(username) < 8: \n",
    "        print('Invalid username. Must be at least 8 characters long.')\n",
    "    elif len(username) > 15:\n",
    "        print('Invalid username. Cannot exceed 15 characters.')\n",
    "    else: \n",
    "        print('Valid username.')\n",
    "\n",
    "hint_username('Verylongnamethatistoolong')\n",
    "hint_username('charishungry')"
   ]
  },
  {
   "cell_type": "code",
   "execution_count": 8,
   "id": "6a6b9531",
   "metadata": {},
   "outputs": [
    {
     "name": "stdout",
     "output_type": "stream",
     "text": [
      "x is greater than five\n"
     ]
    }
   ],
   "source": [
    "x = 8\n",
    "if x > 5:\n",
    "   print('x is greater than five')\n",
    "elif x < 5:\n",
    "   print('x is less than five')\n",
    "else:\n",
    "   print('x is equal to five')"
   ]
  },
  {
   "cell_type": "code",
   "execution_count": null,
   "id": "7195f35e",
   "metadata": {},
   "outputs": [],
   "source": []
  }
 ],
 "metadata": {
  "kernelspec": {
   "display_name": "Python 3 (ipykernel)",
   "language": "python",
   "name": "python3"
  },
  "language_info": {
   "codemirror_mode": {
    "name": "ipython",
    "version": 3
   },
   "file_extension": ".py",
   "mimetype": "text/x-python",
   "name": "python",
   "nbconvert_exporter": "python",
   "pygments_lexer": "ipython3",
   "version": "3.11.5"
  }
 },
 "nbformat": 4,
 "nbformat_minor": 5
}
