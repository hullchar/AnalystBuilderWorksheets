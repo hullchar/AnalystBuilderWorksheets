{
 "cells": [
  {
   "cell_type": "code",
   "execution_count": 1,
   "id": "0d9cb858",
   "metadata": {},
   "outputs": [
    {
     "data": {
      "text/plain": [
       "True"
      ]
     },
     "execution_count": 1,
     "metadata": {},
     "output_type": "execute_result"
    }
   ],
   "source": [
    "# in: Evaluates to true if it finds a variable in the specified sequence and false otherwise / 5 in x\n",
    "# not in: Evaluates to true if it does not find a variable in the specified sequence and false otherwise / 5 not in x\n",
    "\n",
    "love_mems = 'I love membership operators!'\n",
    "\n",
    "'love' in love_mems"
   ]
  },
  {
   "cell_type": "code",
   "execution_count": 2,
   "id": "2bf15fc7",
   "metadata": {},
   "outputs": [
    {
     "data": {
      "text/plain": [
       "False"
      ]
     },
     "execution_count": 2,
     "metadata": {},
     "output_type": "execute_result"
    }
   ],
   "source": [
    "'hate' in love_mems"
   ]
  },
  {
   "cell_type": "code",
   "execution_count": 3,
   "id": "f9fcc8be",
   "metadata": {},
   "outputs": [
    {
     "data": {
      "text/plain": [
       "False"
      ]
     },
     "execution_count": 3,
     "metadata": {},
     "output_type": "execute_result"
    }
   ],
   "source": [
    "my_list = [1,2,3,4,5]\n",
    "num_wanted = 9\n",
    "\n",
    "num_wanted in my_list"
   ]
  },
  {
   "cell_type": "code",
   "execution_count": 4,
   "id": "4fe35fa5",
   "metadata": {},
   "outputs": [
    {
     "data": {
      "text/plain": [
       "True"
      ]
     },
     "execution_count": 4,
     "metadata": {},
     "output_type": "execute_result"
    }
   ],
   "source": [
    "my_list = [1,2,3,4,5]\n",
    "num_wanted = 9\n",
    "\n",
    "num_wanted not in my_list"
   ]
  },
  {
   "cell_type": "code",
   "execution_count": 7,
   "id": "9e8f48a0",
   "metadata": {},
   "outputs": [
    {
     "data": {
      "text/plain": [
       "True"
      ]
     },
     "execution_count": 7,
     "metadata": {},
     "output_type": "execute_result"
    }
   ],
   "source": [
    "my_dictionary = {1:'Hey!',2:'Hello!'}\n",
    "\n",
    "#1 in my_dictionary\n",
    "\n",
    "'Hey!' in my_dictionary.values()"
   ]
  },
  {
   "cell_type": "code",
   "execution_count": null,
   "id": "bdafd31b",
   "metadata": {},
   "outputs": [],
   "source": []
  }
 ],
 "metadata": {
  "kernelspec": {
   "display_name": "Python 3 (ipykernel)",
   "language": "python",
   "name": "python3"
  },
  "language_info": {
   "codemirror_mode": {
    "name": "ipython",
    "version": 3
   },
   "file_extension": ".py",
   "mimetype": "text/x-python",
   "name": "python",
   "nbconvert_exporter": "python",
   "pygments_lexer": "ipython3",
   "version": "3.11.5"
  }
 },
 "nbformat": 4,
 "nbformat_minor": 5
}
