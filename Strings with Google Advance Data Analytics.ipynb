{
 "cells": [
  {
   "cell_type": "code",
   "execution_count": 1,
   "id": "aa7b0483",
   "metadata": {},
   "outputs": [
    {
     "data": {
      "text/plain": [
       "'Helloworld'"
      ]
     },
     "execution_count": 1,
     "metadata": {},
     "output_type": "execute_result"
    }
   ],
   "source": [
    "'Hello' + 'world'"
   ]
  },
  {
   "cell_type": "code",
   "execution_count": 3,
   "id": "4d0fa962",
   "metadata": {},
   "outputs": [
    {
     "data": {
      "text/plain": [
       "'Hello world'"
      ]
     },
     "execution_count": 3,
     "metadata": {},
     "output_type": "execute_result"
    }
   ],
   "source": [
    "'Hello ' + 'world'"
   ]
  },
  {
   "cell_type": "code",
   "execution_count": 5,
   "id": "36b1d21d",
   "metadata": {},
   "outputs": [
    {
     "data": {
      "text/plain": [
       "'Hello world'"
      ]
     },
     "execution_count": 5,
     "metadata": {},
     "output_type": "execute_result"
    }
   ],
   "source": [
    "greeting_1 = 'Hello '\n",
    "greeting_2 = 'world'\n",
    "greeting_1 + greeting_2"
   ]
  },
  {
   "cell_type": "code",
   "execution_count": 7,
   "id": "9332e3b7",
   "metadata": {},
   "outputs": [
    {
     "data": {
      "text/plain": [
       "'Danger! Danger! Danger! '"
      ]
     },
     "execution_count": 7,
     "metadata": {},
     "output_type": "execute_result"
    }
   ],
   "source": [
    "danger = 'Danger! '\n",
    "danger * 3"
   ]
  },
  {
   "cell_type": "code",
   "execution_count": 8,
   "id": "7c908312",
   "metadata": {},
   "outputs": [
    {
     "name": "stdout",
     "output_type": "stream",
     "text": [
      "\"Thank you for pressing the self-destruct button.\"\n"
     ]
    }
   ],
   "source": [
    "quote = '\"Thank you for pressing the self-destruct button.\"'\n",
    "print(quote)"
   ]
  },
  {
   "cell_type": "code",
   "execution_count": 10,
   "id": "654353c1",
   "metadata": {},
   "outputs": [
    {
     "name": "stdout",
     "output_type": "stream",
     "text": [
      "\"It's dangerous to go alone!\"\n"
     ]
    }
   ],
   "source": [
    "quote = \"\\\"It's dangerous to go alone!\\\"\"\n",
    "print(quote)"
   ]
  },
  {
   "cell_type": "code",
   "execution_count": 11,
   "id": "e646b7a6",
   "metadata": {},
   "outputs": [
    {
     "name": "stdout",
     "output_type": "stream",
     "text": [
      "Good day, \n",
      "sir.\n"
     ]
    }
   ],
   "source": [
    "# \\n is a new line\n",
    "\n",
    "greeting = \"Good day, \\nsir.\"\n",
    "print(greeting)"
   ]
  },
  {
   "cell_type": "code",
   "execution_count": 12,
   "id": "317e8f41",
   "metadata": {},
   "outputs": [
    {
     "name": "stdout",
     "output_type": "stream",
     "text": [
      "\\n represents a newline in Python.\n"
     ]
    }
   ],
   "source": [
    "newline = \"\\\\n represents a newline in Python.\"\n",
    "print(newline)"
   ]
  },
  {
   "cell_type": "code",
   "execution_count": 13,
   "id": "f2fd6bca",
   "metadata": {},
   "outputs": [
    {
     "name": "stdout",
     "output_type": "stream",
     "text": [
      "Put\n",
      "yut\n",
      "tut\n",
      "hut\n",
      "out\n",
      "nut\n"
     ]
    }
   ],
   "source": [
    "python = 'Python'\n",
    "for letter in python:\n",
    "    print(letter + 'ut')"
   ]
  },
  {
   "cell_type": "code",
   "execution_count": 15,
   "id": "38856051",
   "metadata": {},
   "outputs": [
    {
     "data": {
      "text/plain": [
       "3"
      ]
     },
     "execution_count": 15,
     "metadata": {},
     "output_type": "execute_result"
    }
   ],
   "source": [
    "pets = 'cats and dogs'\n",
    "pets.index('s')"
   ]
  },
  {
   "cell_type": "code",
   "execution_count": 20,
   "id": "cd0fa87a",
   "metadata": {},
   "outputs": [
    {
     "data": {
      "text/plain": [
       "'J'"
      ]
     },
     "execution_count": 20,
     "metadata": {},
     "output_type": "execute_result"
    }
   ],
   "source": [
    "name = 'Jolene'\n",
    "name[0]"
   ]
  },
  {
   "cell_type": "code",
   "execution_count": 21,
   "id": "172b3432",
   "metadata": {},
   "outputs": [
    {
     "data": {
      "text/plain": [
       "'e'"
      ]
     },
     "execution_count": 21,
     "metadata": {},
     "output_type": "execute_result"
    }
   ],
   "source": [
    "name = 'Jolene'\n",
    "name[5]"
   ]
  },
  {
   "cell_type": "code",
   "execution_count": 18,
   "id": "fa39f0f0",
   "metadata": {},
   "outputs": [
    {
     "data": {
      "text/plain": [
       "'!'"
      ]
     },
     "execution_count": 18,
     "metadata": {},
     "output_type": "execute_result"
    }
   ],
   "source": [
    "sentence = 'A man, a plan, a canal, Panama!'\n",
    "sentence[-1]"
   ]
  },
  {
   "cell_type": "code",
   "execution_count": 19,
   "id": "0d6155fc",
   "metadata": {},
   "outputs": [
    {
     "data": {
      "text/plain": [
       "'a'"
      ]
     },
     "execution_count": 19,
     "metadata": {},
     "output_type": "execute_result"
    }
   ],
   "source": [
    "sentence = 'A man, a plan, a canal, Panama!'\n",
    "sentence[-2]"
   ]
  },
  {
   "cell_type": "code",
   "execution_count": 22,
   "id": "a0e0f769",
   "metadata": {},
   "outputs": [
    {
     "data": {
      "text/plain": [
       "'ran'"
      ]
     },
     "execution_count": 22,
     "metadata": {},
     "output_type": "execute_result"
    }
   ],
   "source": [
    "# String Slice \n",
    "\n",
    "color = 'orange'\n",
    "color[1:4]"
   ]
  },
  {
   "cell_type": "code",
   "execution_count": 23,
   "id": "90491083",
   "metadata": {},
   "outputs": [
    {
     "data": {
      "text/plain": [
       "'pine'"
      ]
     },
     "execution_count": 23,
     "metadata": {},
     "output_type": "execute_result"
    }
   ],
   "source": [
    "fruit = 'pineapple'\n",
    "fruit[:4]"
   ]
  },
  {
   "cell_type": "code",
   "execution_count": 24,
   "id": "e32d0e27",
   "metadata": {},
   "outputs": [
    {
     "data": {
      "text/plain": [
       "'apple'"
      ]
     },
     "execution_count": 24,
     "metadata": {},
     "output_type": "execute_result"
    }
   ],
   "source": [
    "fruit[4:]"
   ]
  },
  {
   "cell_type": "code",
   "execution_count": 25,
   "id": "c6e316e9",
   "metadata": {},
   "outputs": [
    {
     "data": {
      "text/plain": [
       "False"
      ]
     },
     "execution_count": 25,
     "metadata": {},
     "output_type": "execute_result"
    }
   ],
   "source": [
    "# Confirmng if substring is in string \n",
    "\n",
    "'bananna' in fruit"
   ]
  },
  {
   "cell_type": "code",
   "execution_count": 26,
   "id": "ad494424",
   "metadata": {},
   "outputs": [
    {
     "data": {
      "text/plain": [
       "True"
      ]
     },
     "execution_count": 26,
     "metadata": {},
     "output_type": "execute_result"
    }
   ],
   "source": [
    "'apple' in fruit"
   ]
  },
  {
   "cell_type": "code",
   "execution_count": 27,
   "id": "529a0fe9",
   "metadata": {},
   "outputs": [
    {
     "name": "stdout",
     "output_type": "stream",
     "text": [
      "M\n",
      "unladen\n",
      "swallow\n"
     ]
    }
   ],
   "source": [
    "my_string = 'Mississippi half-step'\n",
    "print(my_string[0])\n",
    "\n",
    "my_list = [1, 'unladen', 'swallow']\n",
    "print(my_list[1])\n",
    "\n",
    "print(my_list[-1])"
   ]
  },
  {
   "cell_type": "code",
   "execution_count": null,
   "id": "50680fe9",
   "metadata": {},
   "outputs": [],
   "source": []
  },
  {
   "cell_type": "code",
   "execution_count": 29,
   "id": "69597f65",
   "metadata": {},
   "outputs": [
    {
     "name": "stdout",
     "output_type": "stream",
     "text": [
      "pin\n",
      "pin\n"
     ]
    }
   ],
   "source": [
    "new_string = 'pining for the fjords'\n",
    "print(new_string[0:3])\n",
    "print(new_string[:3])"
   ]
  },
  {
   "cell_type": "code",
   "execution_count": 30,
   "id": "9daaa7b6",
   "metadata": {},
   "outputs": [
    {
     "name": "stdout",
     "output_type": "stream",
     "text": [
      " for the fjords\n",
      " for the fjords\n",
      "21\n"
     ]
    }
   ],
   "source": [
    "new_string = 'pining for the fjords'\n",
    "print(new_string[6:21])\n",
    "print(new_string[6:])\n",
    "print(len(new_string))"
   ]
  },
  {
   "cell_type": "code",
   "execution_count": 31,
   "id": "8c767bbd",
   "metadata": {},
   "outputs": [
    {
     "name": "stdout",
     "output_type": "stream",
     "text": [
      " for the fjords\n"
     ]
    }
   ],
   "source": [
    "new_string = 'pining for the fjords'\n",
    "print(new_string[6:100])"
   ]
  },
  {
   "cell_type": "code",
   "execution_count": 34,
   "id": "ff2fc9c6",
   "metadata": {},
   "outputs": [
    {
     "name": "stdout",
     "output_type": "stream",
     "text": [
      "Hello Manuel, your lucky number is 3.\n"
     ]
    }
   ],
   "source": [
    "# Format strings\n",
    "\n",
    "name = 'Manuel'\n",
    "number = 3\n",
    "print('Hello {}, your lucky number is {}.'.format(name, number))"
   ]
  },
  {
   "cell_type": "code",
   "execution_count": 35,
   "id": "ffefe58c",
   "metadata": {},
   "outputs": [
    {
     "name": "stdout",
     "output_type": "stream",
     "text": [
      "Hello Manuel, your luck number is 3.\n"
     ]
    }
   ],
   "source": [
    "name = 'Manuel'\n",
    "number = 3\n",
    "print('Hello {name}, your luck number is {num}.'.format(num=number, name=name))"
   ]
  },
  {
   "cell_type": "code",
   "execution_count": 36,
   "id": "9a750a4a",
   "metadata": {},
   "outputs": [
    {
     "name": "stdout",
     "output_type": "stream",
     "text": [
      "Hello Manuel, your lucky number is 3.\n"
     ]
    }
   ],
   "source": [
    "print('Hello {1}, your lucky number is {0}.'.format(number, name))"
   ]
  },
  {
   "cell_type": "code",
   "execution_count": 39,
   "id": "f06c0e6f",
   "metadata": {},
   "outputs": [
    {
     "name": "stdout",
     "output_type": "stream",
     "text": [
      "Base price: $7.75 USD. \n",
      " With tax: $8.29 USD.\n"
     ]
    }
   ],
   "source": [
    "price = 7.75\n",
    "with_tax = price * 1.07\n",
    "print('Base price: ${:.2f} USD. \\n With tax: ${:.2f} USD.'.format(price, with_tax))"
   ]
  },
  {
   "cell_type": "code",
   "execution_count": 41,
   "id": "746c60a0",
   "metadata": {},
   "outputs": [
    {
     "name": "stdout",
     "output_type": "stream",
     "text": [
      "  0 F | -17.78 C'\n",
      " 10 F | -12.22 C'\n",
      " 20 F |  -6.67 C'\n",
      " 30 F |  -1.11 C'\n",
      " 40 F |   4.44 C'\n",
      " 50 F |  10.00 C'\n",
      " 60 F |  15.56 C'\n",
      " 70 F |  21.11 C'\n",
      " 80 F |  26.67 C'\n",
      " 90 F |  32.22 C'\n",
      "100 F |  37.78 C'\n"
     ]
    }
   ],
   "source": [
    "def to_celsius(x):\n",
    "    return (x-32) * 5/9\n",
    "\n",
    "for x in range(0, 101, 10):\n",
    "    print(\"{:>3} F | {:>6.2f} C'\".format(x, to_celsius(x)))"
   ]
  },
  {
   "cell_type": "code",
   "execution_count": 42,
   "id": "12ee44c1",
   "metadata": {},
   "outputs": [
    {
     "name": "stdout",
     "output_type": "stream",
     "text": [
      "String formatting lets you insert values into strings.\n",
      "They can even be numbers, like 100.\n"
     ]
    }
   ],
   "source": [
    "x = 'values'\n",
    "y = 100\n",
    "\n",
    "print('''String formatting lets you insert {} into strings.\n",
    "They can even be numbers, like {}.'''.format(x, y))"
   ]
  },
  {
   "cell_type": "code",
   "execution_count": 43,
   "id": "f939896e",
   "metadata": {},
   "outputs": [
    {
     "name": "stdout",
     "output_type": "stream",
     "text": [
      "A, B\n"
     ]
    }
   ],
   "source": [
    "var_a = 'A'\n",
    "var_b = 'B'\n",
    "print('{a}, {b}'.format(b=var_b, a=var_a))"
   ]
  },
  {
   "cell_type": "code",
   "execution_count": 44,
   "id": "e636aa25",
   "metadata": {},
   "outputs": [
    {
     "name": "stdout",
     "output_type": "stream",
     "text": [
      "B, A\n",
      "A, B\n"
     ]
    }
   ],
   "source": [
    "var_a = 'A'\n",
    "var_b = 'B'\n",
    "print('{1}, {0}'.format(var_a, var_b))\n",
    "print('{0}, {1}'.format(var_a, var_b))"
   ]
  },
  {
   "cell_type": "code",
   "execution_count": 45,
   "id": "17ba3022",
   "metadata": {},
   "outputs": [
    {
     "name": "stdout",
     "output_type": "stream",
     "text": [
      "1, 2, 3, 4, 5, 6 ...\n"
     ]
    }
   ],
   "source": [
    "print('{}, {}, {}, {}, {}, {} ...'.format(1, 2, 3, 4, 5, 6))"
   ]
  },
  {
   "cell_type": "code",
   "execution_count": 46,
   "id": "865c1d32",
   "metadata": {},
   "outputs": [
    {
     "name": "stdout",
     "output_type": "stream",
     "text": [
      "abracadabra\n"
     ]
    }
   ],
   "source": [
    "print('{0}{1}{0}'.format('abra', 'cad'))"
   ]
  },
  {
   "cell_type": "code",
   "execution_count": 47,
   "id": "4d9724a3",
   "metadata": {},
   "outputs": [
    {
     "name": "stdout",
     "output_type": "stream",
     "text": [
      "1 + 2\n",
      "3\n",
      "var_a = 1 \n",
      "var_b = 2\n"
     ]
    }
   ],
   "source": [
    "var_a = 1\n",
    "var_b = 2\n",
    "print(f'{var_a} + {var_b}')\n",
    "print(f'{var_a + var_b}')\n",
    "print(f'var_a = {var_a} \\nvar_b = {var_b}')"
   ]
  },
  {
   "cell_type": "code",
   "execution_count": 48,
   "id": "9197ee03",
   "metadata": {},
   "outputs": [
    {
     "data": {
      "text/plain": [
       "'1000.99'"
      ]
     },
     "execution_count": 48,
     "metadata": {},
     "output_type": "execute_result"
    }
   ],
   "source": [
    "num = 1000.987123\n",
    "f'{num:.2f}'"
   ]
  },
  {
   "cell_type": "code",
   "execution_count": 49,
   "id": "7b1a56fa",
   "metadata": {},
   "outputs": [
    {
     "name": "stdout",
     "output_type": "stream",
     "text": [
      "1.001e+03\n",
      "24.9786%\n"
     ]
    }
   ],
   "source": [
    "num = 1000.987123\n",
    "print(f'{num:.3e}')\n",
    "\n",
    "decimal = 0.2497856\n",
    "print(f'{decimal:.4%}')"
   ]
  },
  {
   "cell_type": "code",
   "execution_count": 50,
   "id": "b96edf4f",
   "metadata": {},
   "outputs": [
    {
     "name": "stdout",
     "output_type": "stream",
     "text": [
      "2\n",
      "1\n"
     ]
    }
   ],
   "source": [
    "my_string = 'Happy birthday'\n",
    "\n",
    "print(my_string.count('y'))\n",
    "print(my_string.count('y', 2, 7))"
   ]
  },
  {
   "cell_type": "code",
   "execution_count": 51,
   "id": "4e4817f5",
   "metadata": {},
   "outputs": [
    {
     "data": {
      "text/plain": [
       "6"
      ]
     },
     "execution_count": 51,
     "metadata": {},
     "output_type": "execute_result"
    }
   ],
   "source": [
    "my_string = 'Happy birthday'\n",
    "\n",
    "my_string.find('birth')"
   ]
  },
  {
   "cell_type": "code",
   "execution_count": 52,
   "id": "90a15903",
   "metadata": {},
   "outputs": [
    {
     "data": {
      "text/plain": [
       "'Happy birthday to you'"
      ]
     },
     "execution_count": 52,
     "metadata": {},
     "output_type": "execute_result"
    }
   ],
   "source": [
    "separator_string = ' '\n",
    "iterable_of_strings = ['Happy', 'birthday', 'to', 'you']\n",
    "\n",
    "separator_string.join(iterable_of_strings)"
   ]
  },
  {
   "cell_type": "code",
   "execution_count": 53,
   "id": "a5d4cc44",
   "metadata": {},
   "outputs": [
    {
     "data": {
      "text/plain": [
       "('https://www', '.', 'google.com/')"
      ]
     },
     "execution_count": 53,
     "metadata": {},
     "output_type": "execute_result"
    }
   ],
   "source": [
    "my_string = 'https://www.google.com/'\n",
    "\n",
    "my_string.partition('.')"
   ]
  },
  {
   "cell_type": "code",
   "execution_count": 54,
   "id": "6531d07b",
   "metadata": {},
   "outputs": [
    {
     "data": {
      "text/plain": [
       "'https://www.youtube.com/'"
      ]
     },
     "execution_count": 54,
     "metadata": {},
     "output_type": "execute_result"
    }
   ],
   "source": [
    "my_string = 'https://www.google.com/'\n",
    "\n",
    "my_string.replace('google', 'youtube')"
   ]
  },
  {
   "cell_type": "code",
   "execution_count": 55,
   "id": "bdca439b",
   "metadata": {},
   "outputs": [
    {
     "data": {
      "text/plain": [
       "['Do', 'you', 'know', 'the', 'muffin', 'man?']"
      ]
     },
     "execution_count": 55,
     "metadata": {},
     "output_type": "execute_result"
    }
   ],
   "source": [
    "my_string = 'Do you know the muffin man?'\n",
    "\n",
    "my_string.split()"
   ]
  },
  {
   "cell_type": "code",
   "execution_count": 57,
   "id": "7e2ecd49",
   "metadata": {},
   "outputs": [
    {
     "data": {
      "text/plain": [
       "<re.Match object; span=(18, 22), match='wall'>"
      ]
     },
     "execution_count": 57,
     "metadata": {},
     "output_type": "execute_result"
    }
   ],
   "source": [
    "import re\n",
    "\n",
    "my_string = 'Three sad tigers swallowed wheat in a wheat field'\n",
    "\n",
    "re.search('wall', my_string)"
   ]
  },
  {
   "cell_type": "code",
   "execution_count": 58,
   "id": "a0fe746d",
   "metadata": {},
   "outputs": [
    {
     "data": {
      "text/plain": [
       "<re.Match object; span=(6, 9), match='sad'>"
      ]
     },
     "execution_count": 58,
     "metadata": {},
     "output_type": "execute_result"
    }
   ],
   "source": [
    "import re\n",
    "\n",
    "my_string = 'Three sad tigers swallowed wheat in a wheat field'\n",
    "\n",
    "re.search('[bms]ad', my_string)"
   ]
  },
  {
   "cell_type": "code",
   "execution_count": null,
   "id": "058a8788",
   "metadata": {},
   "outputs": [],
   "source": []
  }
 ],
 "metadata": {
  "kernelspec": {
   "display_name": "Python 3 (ipykernel)",
   "language": "python",
   "name": "python3"
  },
  "language_info": {
   "codemirror_mode": {
    "name": "ipython",
    "version": 3
   },
   "file_extension": ".py",
   "mimetype": "text/x-python",
   "name": "python",
   "nbconvert_exporter": "python",
   "pygments_lexer": "ipython3",
   "version": "3.11.5"
  }
 },
 "nbformat": 4,
 "nbformat_minor": 5
}
