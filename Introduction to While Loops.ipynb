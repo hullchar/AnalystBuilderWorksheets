{
 "cells": [
  {
   "cell_type": "code",
   "execution_count": 1,
   "id": "5d1c63d2",
   "metadata": {},
   "outputs": [
    {
     "name": "stdout",
     "output_type": "stream",
     "text": [
      "Not there yet, x = 0\n",
      "Not there yet, x = 1\n",
      "Not there yet, x = 2\n",
      "Not there yet, x = 3\n",
      "Not there yet, x = 4\n"
     ]
    }
   ],
   "source": [
    "x = 0\n",
    "while x < 5: \n",
    "    print('Not there yet, x = ' + str(x))\n",
    "    x = x + 1"
   ]
  },
  {
   "cell_type": "code",
   "execution_count": 2,
   "id": "f7aa1769",
   "metadata": {},
   "outputs": [
    {
     "name": "stdout",
     "output_type": "stream",
     "text": [
      "Not there yet, x = 0\n",
      "Not there yet, x = 1\n",
      "Not there yet, x = 2\n",
      "Not there yet, x = 3\n",
      "Not there yet, x = 4\n",
      "x = 5\n"
     ]
    }
   ],
   "source": [
    "x = 0\n",
    "while x < 5: \n",
    "    print('Not there yet, x = ' + str(x))\n",
    "    x = x + 1\n",
    "print('x = ' + str(x))"
   ]
  },
  {
   "cell_type": "code",
   "execution_count": null,
   "id": "7f3ebcfc",
   "metadata": {},
   "outputs": [],
   "source": [
    "import random\n",
    "\n",
    "number = random.randint(1,25)\n",
    "number_of_guesses = 0\n",
    "\n",
    "while number_of_guesses < 5:\n",
    "    print('Guess a number between 1 and 25: ')\n",
    "    guess = input()\n",
    "    guess = int(guess)\n",
    "    number_of_guesses += 1\n",
    "    \n",
    "    if guess == number:\n",
    "        break\n",
    "    elif number_of_guesses == 5:\n",
    "        break\n",
    "    else:\n",
    "        print('Nope! Try again.')\n",
    "        \n",
    "if guess == number: \n",
    "    print('Correct! You guess the number in ' + str(number_of_guesses) + 'tries!')\n",
    "else:\n",
    "    print('You did not guess the number. The number was ' + str(number) + '.')"
   ]
  },
  {
   "cell_type": "code",
   "execution_count": null,
   "id": "fd90c1f6",
   "metadata": {},
   "outputs": [],
   "source": []
  }
 ],
 "metadata": {
  "kernelspec": {
   "display_name": "Python 3 (ipykernel)",
   "language": "python",
   "name": "python3"
  },
  "language_info": {
   "codemirror_mode": {
    "name": "ipython",
    "version": 3
   },
   "file_extension": ".py",
   "mimetype": "text/x-python",
   "name": "python",
   "nbconvert_exporter": "python",
   "pygments_lexer": "ipython3",
   "version": "3.11.5"
  }
 },
 "nbformat": 4,
 "nbformat_minor": 5
}
