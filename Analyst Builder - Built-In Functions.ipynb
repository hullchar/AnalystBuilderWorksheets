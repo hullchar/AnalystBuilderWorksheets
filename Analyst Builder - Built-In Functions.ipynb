{
 "cells": [
  {
   "cell_type": "code",
   "execution_count": 1,
   "id": "755d5fed",
   "metadata": {},
   "outputs": [
    {
     "name": "stdout",
     "output_type": "stream",
     "text": [
      "Name your favorite ice cream: mint chocolate chip\n"
     ]
    },
    {
     "data": {
      "text/plain": [
       "'mint chocolate chip'"
      ]
     },
     "execution_count": 1,
     "metadata": {},
     "output_type": "execute_result"
    }
   ],
   "source": [
    "# Input, Enumerate, and Append\n",
    "\n",
    "input('Name your favorite ice cream: ')"
   ]
  },
  {
   "cell_type": "code",
   "execution_count": 2,
   "id": "20d0e54d",
   "metadata": {},
   "outputs": [
    {
     "name": "stdout",
     "output_type": "stream",
     "text": [
      "Name your favorite ice cream: chocolate fudge\n",
      "My favorite ice cream is chocolate fudge\n"
     ]
    }
   ],
   "source": [
    "ice_cream = input('Name your favorite ice cream: ')\n",
    "\n",
    "print('My favorite ice cream is', ice_cream)"
   ]
  },
  {
   "cell_type": "code",
   "execution_count": 4,
   "id": "2c0bc4de",
   "metadata": {},
   "outputs": [
    {
     "data": {
      "text/plain": [
       "[(5, 'Monkey'), (6, 'Dog'), (7, 'Ferret')]"
      ]
     },
     "execution_count": 4,
     "metadata": {},
     "output_type": "execute_result"
    }
   ],
   "source": [
    "# Enumerate \n",
    "\n",
    "my_list = ['Monkey', 'Dog', 'Ferret']\n",
    "\n",
    "list(enumerate(my_list, 5))"
   ]
  },
  {
   "cell_type": "code",
   "execution_count": 6,
   "id": "39e86879",
   "metadata": {},
   "outputs": [
    {
     "name": "stdout",
     "output_type": "stream",
     "text": [
      "[1, 2, 3, 4]\n"
     ]
    }
   ],
   "source": [
    "# Append\n",
    "\n",
    "list_1 = [1,2,3]\n",
    "another_value = 4\n",
    "\n",
    "list_1. append(another_value)\n",
    "\n",
    "print(list_1)"
   ]
  },
  {
   "cell_type": "code",
   "execution_count": 7,
   "id": "c272e65c",
   "metadata": {},
   "outputs": [
    {
     "name": "stdout",
     "output_type": "stream",
     "text": [
      "[1, 2.3, [4, 5, 6]]\n"
     ]
    }
   ],
   "source": [
    "list_1 = [1,2.3]\n",
    "list_2 = [4,5,6]\n",
    "\n",
    "list_1.append(list_2)\n",
    "\n",
    "print(list_1)"
   ]
  },
  {
   "cell_type": "code",
   "execution_count": 9,
   "id": "e9ddd682",
   "metadata": {},
   "outputs": [
    {
     "data": {
      "text/plain": [
       "7"
      ]
     },
     "execution_count": 9,
     "metadata": {},
     "output_type": "execute_result"
    }
   ],
   "source": [
    "# Len \n",
    "\n",
    "my_list = [1,2,3,'Hey',6,9,31]\n",
    "\n",
    "len(my_list)"
   ]
  },
  {
   "cell_type": "code",
   "execution_count": 10,
   "id": "5038bd1c",
   "metadata": {},
   "outputs": [
    {
     "data": {
      "text/plain": [
       "2"
      ]
     },
     "execution_count": 10,
     "metadata": {},
     "output_type": "execute_result"
    }
   ],
   "source": [
    "my_dict = {1: 'Hey', 2: 'Hello'}\n",
    "\n",
    "len(my_dict)"
   ]
  },
  {
   "cell_type": "code",
   "execution_count": 11,
   "id": "108b4a5d",
   "metadata": {},
   "outputs": [
    {
     "name": "stdout",
     "output_type": "stream",
     "text": [
      "7894561234\n"
     ]
    }
   ],
   "source": [
    "phone_numbers = ['10315663156', '7894561234', '1518616879654596464']\n",
    "\n",
    "len(phone_numbers)\n",
    "\n",
    "for num in phone_numbers:\n",
    "    if len(num) == 10:\n",
    "        print(num)"
   ]
  },
  {
   "cell_type": "code",
   "execution_count": 13,
   "id": "82d85714",
   "metadata": {},
   "outputs": [
    {
     "name": "stdout",
     "output_type": "stream",
     "text": [
      "7894561234\n"
     ]
    }
   ],
   "source": [
    "phone_numbers = [10315663156, 7894561234, 1518616879654596464]\n",
    "\n",
    "len(phone_numbers)\n",
    "\n",
    "for num in phone_numbers:\n",
    "    if len(str(num)) == 10:\n",
    "        print(num)"
   ]
  },
  {
   "cell_type": "code",
   "execution_count": null,
   "id": "3421b688",
   "metadata": {},
   "outputs": [],
   "source": [
    "# Range\n",
    "\n",
    "range(start, stop, step)"
   ]
  },
  {
   "cell_type": "code",
   "execution_count": 14,
   "id": "876046be",
   "metadata": {},
   "outputs": [
    {
     "data": {
      "text/plain": [
       "range(0, 10)"
      ]
     },
     "execution_count": 14,
     "metadata": {},
     "output_type": "execute_result"
    }
   ],
   "source": [
    "range(10)"
   ]
  },
  {
   "cell_type": "code",
   "execution_count": 15,
   "id": "15ea9798",
   "metadata": {},
   "outputs": [
    {
     "name": "stdout",
     "output_type": "stream",
     "text": [
      "0\n",
      "1\n",
      "2\n",
      "3\n",
      "4\n",
      "5\n",
      "6\n",
      "7\n",
      "8\n",
      "9\n"
     ]
    }
   ],
   "source": [
    "for num in range(10):\n",
    "    print(num)"
   ]
  },
  {
   "cell_type": "code",
   "execution_count": 16,
   "id": "7024d841",
   "metadata": {},
   "outputs": [
    {
     "name": "stdout",
     "output_type": "stream",
     "text": [
      "3\n",
      "4\n",
      "5\n",
      "6\n",
      "7\n",
      "8\n",
      "9\n"
     ]
    }
   ],
   "source": [
    "for num in range(3,10):\n",
    "    print(num)"
   ]
  },
  {
   "cell_type": "code",
   "execution_count": 17,
   "id": "573412b2",
   "metadata": {},
   "outputs": [
    {
     "name": "stdout",
     "output_type": "stream",
     "text": [
      "0\n",
      "2\n",
      "4\n",
      "6\n",
      "8\n",
      "10\n",
      "12\n",
      "14\n",
      "16\n",
      "18\n",
      "20\n",
      "22\n",
      "24\n",
      "26\n",
      "28\n",
      "30\n",
      "32\n",
      "34\n",
      "36\n",
      "38\n",
      "40\n",
      "42\n",
      "44\n",
      "46\n",
      "48\n",
      "50\n",
      "52\n",
      "54\n",
      "56\n",
      "58\n",
      "60\n",
      "62\n",
      "64\n",
      "66\n",
      "68\n",
      "70\n",
      "72\n",
      "74\n",
      "76\n",
      "78\n",
      "80\n",
      "82\n",
      "84\n",
      "86\n",
      "88\n",
      "90\n",
      "92\n",
      "94\n",
      "96\n",
      "98\n"
     ]
    }
   ],
   "source": [
    "for num in range(0,100,2):\n",
    "    print(num)"
   ]
  },
  {
   "cell_type": "code",
   "execution_count": 18,
   "id": "daf632c4",
   "metadata": {},
   "outputs": [
    {
     "name": "stdout",
     "output_type": "stream",
     "text": [
      "0\n",
      "6\n",
      "12\n",
      "18\n",
      "24\n",
      "30\n",
      "36\n",
      "42\n",
      "48\n",
      "54\n",
      "60\n",
      "66\n",
      "72\n",
      "78\n",
      "84\n",
      "90\n",
      "96\n"
     ]
    }
   ],
   "source": [
    "# for any even number divisible by 3 using modulus\n",
    "\n",
    "for num in range(0,100,2):\n",
    "    if num % 3 ==0:\n",
    "        print(num)"
   ]
  },
  {
   "cell_type": "code",
   "execution_count": null,
   "id": "fc3a28b2",
   "metadata": {},
   "outputs": [],
   "source": [
    "# Round "
   ]
  },
  {
   "cell_type": "code",
   "execution_count": 19,
   "id": "fb854293",
   "metadata": {},
   "outputs": [
    {
     "data": {
      "text/plain": [
       "206"
      ]
     },
     "execution_count": 19,
     "metadata": {},
     "output_type": "execute_result"
    }
   ],
   "source": [
    "round(205.76)"
   ]
  },
  {
   "cell_type": "code",
   "execution_count": 20,
   "id": "e5501a58",
   "metadata": {},
   "outputs": [
    {
     "data": {
      "text/plain": [
       "float"
      ]
     },
     "execution_count": 20,
     "metadata": {},
     "output_type": "execute_result"
    }
   ],
   "source": [
    "type(205.76)"
   ]
  },
  {
   "cell_type": "code",
   "execution_count": 21,
   "id": "55559315",
   "metadata": {},
   "outputs": [
    {
     "data": {
      "text/plain": [
       "205.76"
      ]
     },
     "execution_count": 21,
     "metadata": {},
     "output_type": "execute_result"
    }
   ],
   "source": [
    "round(205.76,2)"
   ]
  },
  {
   "cell_type": "code",
   "execution_count": 24,
   "id": "f82e3499",
   "metadata": {},
   "outputs": [
    {
     "data": {
      "text/plain": [
       "float"
      ]
     },
     "execution_count": 24,
     "metadata": {},
     "output_type": "execute_result"
    }
   ],
   "source": [
    "type(round(205.76,2))"
   ]
  },
  {
   "cell_type": "code",
   "execution_count": 25,
   "id": "1b5e34b8",
   "metadata": {},
   "outputs": [
    {
     "data": {
      "text/plain": [
       "1200.0"
      ]
     },
     "execution_count": 25,
     "metadata": {},
     "output_type": "execute_result"
    }
   ],
   "source": [
    "round(1205.76,-2)"
   ]
  },
  {
   "cell_type": "code",
   "execution_count": 26,
   "id": "4481539b",
   "metadata": {},
   "outputs": [
    {
     "data": {
      "text/plain": [
       "0"
      ]
     },
     "execution_count": 26,
     "metadata": {},
     "output_type": "execute_result"
    }
   ],
   "source": [
    "# Slice \n",
    "\n",
    "my_list = [0,1,2,3,4,5,6,7]\n",
    "\n",
    "my_list[0]"
   ]
  },
  {
   "cell_type": "code",
   "execution_count": 27,
   "id": "93ae86a7",
   "metadata": {},
   "outputs": [
    {
     "data": {
      "text/plain": [
       "[0, 2, 4, 6]"
      ]
     },
     "execution_count": 27,
     "metadata": {},
     "output_type": "execute_result"
    }
   ],
   "source": [
    "my_list[:7:2]"
   ]
  },
  {
   "cell_type": "code",
   "execution_count": 30,
   "id": "3d45b524",
   "metadata": {},
   "outputs": [],
   "source": [
    "my_slice = slice(0,7,2)"
   ]
  },
  {
   "cell_type": "code",
   "execution_count": 31,
   "id": "abb1d384",
   "metadata": {},
   "outputs": [
    {
     "data": {
      "text/plain": [
       "[0, 2, 4, 6]"
      ]
     },
     "execution_count": 31,
     "metadata": {},
     "output_type": "execute_result"
    }
   ],
   "source": [
    "my_list[my_slice]"
   ]
  },
  {
   "cell_type": "code",
   "execution_count": 32,
   "id": "9845c6b8",
   "metadata": {},
   "outputs": [],
   "source": [
    "my_list = [0,1,2,3,4,5,6,7]"
   ]
  },
  {
   "cell_type": "code",
   "execution_count": 35,
   "id": "e54c2a07",
   "metadata": {},
   "outputs": [
    {
     "data": {
      "text/plain": [
       "[7, 6, 5, 4, 3, 2, 1, 0]"
      ]
     },
     "execution_count": 35,
     "metadata": {},
     "output_type": "execute_result"
    }
   ],
   "source": [
    "my_slice = slice(-1,-9,-1)\n",
    "\n",
    "my_list[my_slice]"
   ]
  },
  {
   "cell_type": "code",
   "execution_count": 37,
   "id": "b9487a19",
   "metadata": {},
   "outputs": [
    {
     "data": {
      "text/plain": [
       "[7, 6, 5, 4, 3, 2, 1, 0]"
      ]
     },
     "execution_count": 37,
     "metadata": {},
     "output_type": "execute_result"
    }
   ],
   "source": [
    "my_slice = my_list[::-1]\n",
    "\n",
    "my_slice"
   ]
  },
  {
   "cell_type": "code",
   "execution_count": 1,
   "id": "1ade29c5",
   "metadata": {},
   "outputs": [
    {
     "name": "stdout",
     "output_type": "stream",
     "text": [
      "         Jimothy\n"
     ]
    }
   ],
   "source": [
    "# Strip function \n",
    "\n",
    "name = '         Jimothy'\n",
    "\n",
    "print(name)"
   ]
  },
  {
   "cell_type": "code",
   "execution_count": 2,
   "id": "c436a668",
   "metadata": {},
   "outputs": [
    {
     "name": "stdout",
     "output_type": "stream",
     "text": [
      "Jimothy\n"
     ]
    }
   ],
   "source": [
    "print(name.strip())"
   ]
  },
  {
   "cell_type": "code",
   "execution_count": 3,
   "id": "3bf4877f",
   "metadata": {},
   "outputs": [
    {
     "name": "stdout",
     "output_type": "stream",
     "text": [
      "Jimothy\n"
     ]
    }
   ],
   "source": [
    "name = '........Jimothy........'\n",
    "\n",
    "print(name.strip(\".\"))"
   ]
  },
  {
   "cell_type": "code",
   "execution_count": 5,
   "id": "a070c859",
   "metadata": {},
   "outputs": [
    {
     "name": "stdout",
     "output_type": "stream",
     "text": [
      "['Rocky Road', 'Chocolate', 'Strawberry']\n"
     ]
    }
   ],
   "source": [
    "my_list = ['0Rocky Road', '1Chocolate', '2Strawberry']\n",
    "\n",
    "new_list = [word.strip('0123456789') for word in my_list]\n",
    "\n",
    "print(new_list)"
   ]
  },
  {
   "cell_type": "code",
   "execution_count": 7,
   "id": "299ce1c1",
   "metadata": {},
   "outputs": [
    {
     "data": {
      "text/plain": [
       "'I love harmonicas on the beach.'"
      ]
     },
     "execution_count": 7,
     "metadata": {},
     "output_type": "execute_result"
    }
   ],
   "source": [
    "# Replace Function \n",
    "\n",
    "sentence = 'I.love.harmonicas.on.the.beach.'\n",
    "\n",
    "sentence.replace('.',' ',5)"
   ]
  },
  {
   "cell_type": "code",
   "execution_count": 8,
   "id": "abe3f939",
   "metadata": {},
   "outputs": [
    {
     "data": {
      "text/plain": [
       "'I do know, I do know, I do know!'"
      ]
     },
     "execution_count": 8,
     "metadata": {},
     "output_type": "execute_result"
    }
   ],
   "source": [
    "random_text = 'I do not know, I do not know, I do not know!'\n",
    "\n",
    "random_text.replace('I do not know','I do know')"
   ]
  },
  {
   "cell_type": "code",
   "execution_count": 9,
   "id": "6720edb8",
   "metadata": {},
   "outputs": [
    {
     "data": {
      "text/plain": [
       "'I love you!'"
      ]
     },
     "execution_count": 9,
     "metadata": {},
     "output_type": "execute_result"
    }
   ],
   "source": [
    "# Join Function \n",
    "\n",
    "my_list = ['I','love','you!']\n",
    "\n",
    "' '.join(my_list)"
   ]
  },
  {
   "cell_type": "code",
   "execution_count": 10,
   "id": "61fbffb7",
   "metadata": {},
   "outputs": [
    {
     "data": {
      "text/plain": [
       "'I Love You!'"
      ]
     },
     "execution_count": 10,
     "metadata": {},
     "output_type": "execute_result"
    }
   ],
   "source": [
    "my_dict = {'one':'I','two':'Love','three':'You!'}\n",
    "\n",
    "' '.join(my_dict.values())"
   ]
  },
  {
   "cell_type": "code",
   "execution_count": null,
   "id": "9b56f825",
   "metadata": {},
   "outputs": [],
   "source": []
  }
 ],
 "metadata": {
  "kernelspec": {
   "display_name": "Python 3 (ipykernel)",
   "language": "python",
   "name": "python3"
  },
  "language_info": {
   "codemirror_mode": {
    "name": "ipython",
    "version": 3
   },
   "file_extension": ".py",
   "mimetype": "text/x-python",
   "name": "python",
   "nbconvert_exporter": "python",
   "pygments_lexer": "ipython3",
   "version": "3.11.5"
  }
 },
 "nbformat": 4,
 "nbformat_minor": 5
}
